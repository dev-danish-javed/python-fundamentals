{
  "nbformat": 4,
  "nbformat_minor": 0,
  "metadata": {
    "colab": {
      "provenance": [],
      "toc_visible": true,
      "authorship_tag": "ABX9TyOogOYSf8LUA6tBiXTzh/GX",
      "include_colab_link": true
    },
    "kernelspec": {
      "name": "python3",
      "display_name": "Python 3"
    },
    "language_info": {
      "name": "python"
    }
  },
  "cells": [
    {
      "cell_type": "markdown",
      "metadata": {
        "id": "view-in-github",
        "colab_type": "text"
      },
      "source": [
        "<a href=\"https://colab.research.google.com/github/dev-danish-javed/python-fundamentals/blob/main/Pyhton_Fundamentals.ipynb\" target=\"_parent\"><img src=\"https://colab.research.google.com/assets/colab-badge.svg\" alt=\"Open In Colab\"/></a>"
      ]
    },
    {
      "cell_type": "markdown",
      "source": [
        "# Print statements"
      ],
      "metadata": {
        "id": "By33ZyWfDqXz"
      }
    },
    {
      "cell_type": "markdown",
      "source": [
        "# Basic IO\n",
        " - For output we have print\n",
        " - For input we have input"
      ],
      "metadata": {
        "id": "SXZ5lpH6X6-7"
      }
    },
    {
      "cell_type": "code",
      "execution_count": null,
      "metadata": {
        "colab": {
          "base_uri": "https://localhost:8080/"
        },
        "id": "Af1zW2cmABVN",
        "outputId": "49d32d05-75c4-4367-d630-e6b4014836bc"
      },
      "outputs": [
        {
          "output_type": "stream",
          "name": "stdout",
          "text": [
            "Hello Danish\n"
          ]
        }
      ],
      "source": [
        "print('Hello Danish')"
      ]
    },
    {
      "cell_type": "markdown",
      "source": [
        "## Different versions of print"
      ],
      "metadata": {
        "id": "ugHjouo4OoWA"
      }
    },
    {
      "cell_type": "code",
      "source": [
        "name='Danish'\n",
        "age= int(27)\n",
        "print(f'{name} is {age} years old')"
      ],
      "metadata": {
        "colab": {
          "base_uri": "https://localhost:8080/"
        },
        "id": "7r6H4lw7AXpO",
        "outputId": "d64344dc-2372-48fa-bfe6-c8db0719a9b0"
      },
      "execution_count": null,
      "outputs": [
        {
          "output_type": "stream",
          "name": "stdout",
          "text": [
            "Danish is 27 years old\n"
          ]
        }
      ]
    },
    {
      "cell_type": "code",
      "source": [
        "# simple\n",
        "print('Hello')\n",
        "\n",
        "# multiple params, auto spacing\n",
        "print('Hello', 'Paymentus', 123)\n",
        "\n",
        "# with seperator\n",
        "print('Hello', 'Paymentus', 123, sep='-')\n",
        "\n",
        "# with end\n",
        "print('Hello', end=' ')\n",
        "print('Paymentus')\n",
        "\n",
        "# formatted\n",
        "name = 'Danish'\n",
        "work_anniversary_count = 3\n",
        "print(f'Hi {name}, Congrats on your {work_anniversary_count}th work anniversary 🎉')\n",
        "\n",
        "# old school\n",
        "print('Hi %s, Congrats on your %dth work anniversary 🎉' % (name, work_anniversary_count))\n",
        "print('Hi {}, Congrats on your {}th work anniversary 🎉'.format(name, work_anniversary_count))\n",
        "\n",
        "# multiline print(string)\n",
        "print(\"\"\"\n",
        "Hello everyone,\n",
        "\n",
        "I hope you're all doing fine.\n",
        "\n",
        "Happy learning ✨\n",
        "\"\"\")\n",
        "\n"
      ],
      "metadata": {
        "colab": {
          "base_uri": "https://localhost:8080/"
        },
        "id": "yblvMshNOuEy",
        "outputId": "9393a86f-214a-42c8-d09a-df08440d69ee"
      },
      "execution_count": null,
      "outputs": [
        {
          "output_type": "stream",
          "name": "stdout",
          "text": [
            "Hello\n",
            "Hello world 123\n",
            "Hello-world-123\n",
            "Hello world\n",
            "Hi Danish, Congrats on your 3th work anniversary 🎉\n",
            "Hi Danish, Congrats on your 3th work anniversary 🎉\n",
            "Hi Danish, Congrats on your 3th work anniversary 🎉\n",
            "\n",
            "Hello everyone,\n",
            "\n",
            "I hope you're all doing fine.\n",
            "\n",
            "Happy learning ✨\n",
            "\n"
          ]
        }
      ]
    },
    {
      "cell_type": "markdown",
      "source": [
        "**This will not work (no toString method working under the hood here)**"
      ],
      "metadata": {
        "id": "PHpOAPJ0EWAm"
      }
    },
    {
      "cell_type": "code",
      "source": [
        "#print(name + age)"
      ],
      "metadata": {
        "id": "BWgWdDBTBmNx"
      },
      "execution_count": null,
      "outputs": []
    },
    {
      "cell_type": "markdown",
      "source": [
        "Convert the int to str prior to printing it"
      ],
      "metadata": {
        "id": "HlLiGrEOEmsi"
      }
    },
    {
      "cell_type": "code",
      "source": [
        "print(name + ' ' + str(age))"
      ],
      "metadata": {
        "colab": {
          "base_uri": "https://localhost:8080/"
        },
        "id": "kIZsffgmCTQe",
        "outputId": "5d3662da-70bb-4424-c01b-d6cbd258511b"
      },
      "execution_count": null,
      "outputs": [
        {
          "output_type": "stream",
          "name": "stdout",
          "text": [
            "Danish 27\n"
          ]
        }
      ]
    },
    {
      "cell_type": "markdown",
      "source": [
        "# Data Types\n",
        "We have total 4 types of data in python\n",
        "- str : String type\n",
        "- int : whole number\n",
        "- float : decimal numbers\n",
        "- bool : booleans\n",
        "- complex : the same we have in maths"
      ],
      "metadata": {
        "id": "eWBAjTlwD0-s"
      }
    },
    {
      "cell_type": "code",
      "source": [
        "name = 'Danish'\n",
        "age = 27\n",
        "rating = 4.68\n",
        "available = True\n",
        "a = 2 + 3j\n",
        "\n",
        "print(type(name), type(age), type(rating), type(available), type(a))"
      ],
      "metadata": {
        "colab": {
          "base_uri": "https://localhost:8080/"
        },
        "id": "hr6wGuldBhX1",
        "outputId": "aded0aed-e312-477c-e58f-d3bbd8c927e7"
      },
      "execution_count": null,
      "outputs": [
        {
          "output_type": "stream",
          "name": "stdout",
          "text": [
            "<class 'str'> <class 'int'> <class 'float'> <class 'bool'> <class 'complex'>\n"
          ]
        }
      ]
    },
    {
      "cell_type": "markdown",
      "source": [
        "## Type conversion\n",
        "Each type has a respective conversion method with the same name\n",
        "- str()\n",
        "- int()\n",
        "- float()\n",
        "- bool()\n",
        "\n",
        "These types are smart enough to unerstand what the input parameter is and based on that they can convert them"
      ],
      "metadata": {
        "id": "bfQV2cqJGSYW"
      }
    },
    {
      "cell_type": "code",
      "source": [
        "age = '27'\n",
        "rating = '4.68'\n",
        "available = 'true'\n",
        "# parse these\n",
        "age = int(age)\n",
        "rating = float(rating)\n",
        "available = bool(available)\n",
        "\n",
        "print('age', age, type(age))\n",
        "print('rating', rating, type(rating))\n",
        "print('available', available, type(available))"
      ],
      "metadata": {
        "colab": {
          "base_uri": "https://localhost:8080/"
        },
        "id": "lIC1AadQGQrz",
        "outputId": "e128601f-855a-4163-fc0d-467f13ff27d4"
      },
      "execution_count": null,
      "outputs": [
        {
          "output_type": "stream",
          "name": "stdout",
          "text": [
            "age 27 <class 'int'>\n",
            "rating 4.68 <class 'float'>\n",
            "available True <class 'bool'>\n"
          ]
        }
      ]
    },
    {
      "cell_type": "markdown",
      "source": [
        "### bool\n",
        "While every other conversion works as obvious, bool is a bit different\n",
        "\n",
        ">Non-empty = True, Empty/Zero = False"
      ],
      "metadata": {
        "id": "0Va2MQ6WKt_R"
      }
    },
    {
      "source": [
        "print('bool(1)', '\\t\\t', bool(1))\n",
        "print('bool(0)', '\\t\\t', bool(0))\n",
        "print('bool(123)', '\\t\\t', bool(123))\n",
        "\n",
        "print()\n",
        "\n",
        "print('bool(0.0)','\\t\\t', bool(0.0))\n",
        "print('bool(0.1)','\\t\\t', bool(0.1))\n",
        "print('bool(1.0)','\\t\\t', bool(1.0))\n",
        "\n",
        "print()\n",
        "\n",
        "print(\"bool('hello')\",'\\t\\t', bool('hello'))\n",
        "print(\"bool('')\",'\\t\\t', bool(''))\n",
        "\n",
        "print()\n",
        "\n",
        "print(\"bool([])\",'\\t\\t', bool([]))\n",
        "print(\"bool([1,2,3])\",'\\t\\t', bool([1,2,3]))\n",
        "print(\"bool(['hi', 1, 1.2])\",'\\t', bool(['hi', 1, 1.2]))"
      ],
      "cell_type": "code",
      "metadata": {
        "colab": {
          "base_uri": "https://localhost:8080/"
        },
        "id": "Q6abI9lWMM9V",
        "outputId": "5629f8f3-8e6d-4cf9-d45b-fc350a6e1dea"
      },
      "execution_count": null,
      "outputs": [
        {
          "output_type": "stream",
          "name": "stdout",
          "text": [
            "bool(1) \t\t True\n",
            "bool(0) \t\t False\n",
            "bool(123) \t\t True\n",
            "\n",
            "bool(0.0) \t\t False\n",
            "bool(0.1) \t\t True\n",
            "bool(1.0) \t\t True\n",
            "\n",
            "bool('hello') \t\t True\n",
            "bool('') \t\t False\n",
            "\n",
            "bool([]) \t\t False\n",
            "bool([1,2,3]) \t\t True\n",
            "bool(['hi', 1, 1.2]) \t True\n"
          ]
        }
      ]
    },
    {
      "cell_type": "code",
      "source": [
        "name = input(\"What's your name ? \")\n",
        "print(f'Hello {name} !!')"
      ],
      "metadata": {
        "colab": {
          "base_uri": "https://localhost:8080/"
        },
        "id": "WV0F4XdgYbRD",
        "outputId": "40bd1e50-2653-4a2e-9ca6-5695bbc48af2"
      },
      "execution_count": null,
      "outputs": [
        {
          "output_type": "stream",
          "name": "stdout",
          "text": [
            "What's your name ? Danish\n",
            "Hello Danish !!\n"
          ]
        }
      ]
    },
    {
      "cell_type": "markdown",
      "source": [
        "# Control flow in Python\n",
        "- Conditional Statements\n",
        "  - if\n",
        "  - elif\n",
        "  - else\n",
        "- Loops\n",
        "  - for\n",
        "  - while\n",
        "  - Loop control\n",
        "    - break\n",
        "    - continue\n",
        "    - pass\n",
        "- match-case\n",
        "- try-expect-finally"
      ],
      "metadata": {
        "id": "a956YdKaoTCs"
      }
    },
    {
      "cell_type": "markdown",
      "source": [
        "## Conditional statements"
      ],
      "metadata": {
        "id": "OmxZyU1IqKqs"
      }
    },
    {
      "cell_type": "markdown",
      "source": [
        "### if-else\n",
        "Even odd check"
      ],
      "metadata": {
        "id": "TVX8AW51JHgQ"
      }
    },
    {
      "cell_type": "code",
      "source": [
        "import random;\n",
        "num = random.randint(1,10)\n",
        "print(\"Random num : \", num)\n",
        "if num%2 == 0:\n",
        "  print(\"num is even\")\n",
        "else:\n",
        "  print(\"num is odd\")"
      ],
      "metadata": {
        "id": "h2bqK6s8Y74F",
        "colab": {
          "base_uri": "https://localhost:8080/"
        },
        "outputId": "d402ed8f-2d17-4e06-a370-d9d216daae16"
      },
      "execution_count": null,
      "outputs": [
        {
          "output_type": "stream",
          "name": "stdout",
          "text": [
            "Random num :  2\n",
            "num is even\n"
          ]
        }
      ]
    },
    {
      "cell_type": "markdown",
      "source": [
        "### Ternary operator\n",
        "> Python style"
      ],
      "metadata": {
        "id": "tUrS3cVqKD5f"
      }
    },
    {
      "cell_type": "code",
      "source": [
        "import random;\n",
        "num = random.randint(1,10)\n",
        "print(\"Random num : \", num)\n",
        "print(\"num is even\") if num%2 == 0 else print(\"num is odd\")"
      ],
      "metadata": {
        "colab": {
          "base_uri": "https://localhost:8080/"
        },
        "id": "V8UncCkZKmtt",
        "outputId": "22c9519d-693c-4d0f-aa07-0af95a27fd23"
      },
      "execution_count": null,
      "outputs": [
        {
          "output_type": "stream",
          "name": "stdout",
          "text": [
            "Random num :  2\n",
            "num is even\n"
          ]
        }
      ]
    },
    {
      "cell_type": "markdown",
      "source": [
        "### if-elif-else\n",
        "Fuzz Buzz Problem"
      ],
      "metadata": {
        "id": "GdV2k_0pJNGz"
      }
    },
    {
      "cell_type": "code",
      "source": [
        "import random;\n",
        "num = random.randint(1,100)\n",
        "print(\"Random num : \", num)\n",
        "if num%3 == 0 and num%5 == 0:\n",
        "  print(\"Fuzz Buzz\")\n",
        "elif num%3 == 0:\n",
        "  print(\"Fuzz\")\n",
        "elif num%5 == 0:\n",
        "  print(\"Buzz\")\n",
        "else:\n",
        "  print(\"none\")"
      ],
      "metadata": {
        "colab": {
          "base_uri": "https://localhost:8080/"
        },
        "id": "XyY_H-_wI0xg",
        "outputId": "0f580d35-d383-459a-deb6-8bb0097732d7"
      },
      "execution_count": null,
      "outputs": [
        {
          "output_type": "stream",
          "name": "stdout",
          "text": [
            "Random num :  48\n",
            "Fuzz\n"
          ]
        }
      ]
    },
    {
      "cell_type": "markdown",
      "source": [
        "### match-case\n",
        "\n",
        "This is similar to switch case, except that it doesn't need break"
      ],
      "metadata": {
        "id": "BVrVuCgytxo3"
      }
    },
    {
      "cell_type": "code",
      "source": [
        "mood = input(\"Enter your mood [happy, sad, excited, nervous]\\t\")\n",
        "tip = None\n",
        "match mood:\n",
        "  case \"happy\":\n",
        "    tip = \"Yeah, have fun bro\"\n",
        "  case \"sad\":\n",
        "    tip = \"Arijit Singh or Pankaj Udaas, your call\"\n",
        "  case \"excited\":\n",
        "    tip = \"Good luck 👍🏼\"\n",
        "  case \"nervous\":\n",
        "    tip = \"You have got this bro\"\n",
        "  case _:\n",
        "    tip = \"Pray bro\"\n",
        "\n",
        "print(tip)"
      ],
      "metadata": {
        "colab": {
          "base_uri": "https://localhost:8080/"
        },
        "id": "cwW-HaNit6oo",
        "outputId": "ad474e24-6755-46c9-b130-e9d66249bf9e"
      },
      "execution_count": null,
      "outputs": [
        {
          "output_type": "stream",
          "name": "stdout",
          "text": [
            "Enter your mood [happy, sad, excited, nervous]\tnervous\n",
            "You have got this bro\n"
          ]
        }
      ]
    },
    {
      "cell_type": "markdown",
      "source": [
        "## Loops\n"
      ],
      "metadata": {
        "id": "cqN_eDg6M06u"
      }
    },
    {
      "cell_type": "markdown",
      "source": [
        "### for"
      ],
      "metadata": {
        "id": "Ust4D9x5NzOG"
      }
    },
    {
      "cell_type": "code",
      "source": [
        "for i in range(0,10):\n",
        "  print(i, end='\\t')"
      ],
      "metadata": {
        "colab": {
          "base_uri": "https://localhost:8080/"
        },
        "id": "T0u8V6wqNuEV",
        "outputId": "7df54b9f-5f1d-434c-cf98-024d27695f98"
      },
      "execution_count": null,
      "outputs": [
        {
          "output_type": "stream",
          "name": "stdout",
          "text": [
            "0\t1\t2\t3\t4\t5\t6\t7\t8\t9\t"
          ]
        }
      ]
    },
    {
      "cell_type": "markdown",
      "source": [
        "### while"
      ],
      "metadata": {
        "id": "rlCwVnyyWsop"
      }
    },
    {
      "cell_type": "code",
      "source": [
        "stay = True;\n",
        "while(stay):\n",
        "  stay = input(\"Do you want to continue ?\\t\").strip().lower() in ['y', 'yes', '1', 'true']\n",
        "  if not stay:\n",
        "    print('yeah, move forwards. Happy learning ✨')"
      ],
      "metadata": {
        "colab": {
          "base_uri": "https://localhost:8080/"
        },
        "id": "iulQ9jPYWz1m",
        "outputId": "0ac65672-f883-4bd7-8b8b-b6dee910b72d"
      },
      "execution_count": null,
      "outputs": [
        {
          "output_type": "stream",
          "name": "stdout",
          "text": [
            "Do you want to continue ?\tyes\n",
            "Do you want to continue ?\tno\n",
            "yeah, move forwards. Happy learning ✨\n"
          ]
        }
      ]
    },
    {
      "cell_type": "markdown",
      "source": [
        "### Loop Control\n",
        "- break\n",
        "- continue\n",
        "- pass"
      ],
      "metadata": {
        "id": "_pQO6pBaJ22W"
      }
    },
    {
      "cell_type": "markdown",
      "source": [
        "#### break"
      ],
      "metadata": {
        "id": "fDQWj_0KZx6E"
      }
    },
    {
      "cell_type": "code",
      "source": [
        "tell_a_joke = input('Want to read a joke ?\\t').strip().lower() in ['y', 'yes', '1', 'true']\n",
        "while tell_a_joke:\n",
        "  print('  joke\\n')\n",
        "  tell_a_joke = input('Want more?\\t').strip().lower() in ['y', 'yes', '1', 'true']\n",
        "  if not tell_a_joke:\n",
        "    print('  your humor is dead 😑')\n",
        "    break\n",
        "\n"
      ],
      "metadata": {
        "colab": {
          "base_uri": "https://localhost:8080/"
        },
        "id": "XJNR6ybtaQRy",
        "outputId": "9624605c-9853-4adf-bd19-03d4fb48bfa0"
      },
      "execution_count": null,
      "outputs": [
        {
          "output_type": "stream",
          "name": "stdout",
          "text": [
            "Want to read a joke ?\tyes\n",
            "  joke\n",
            "\n",
            "Want more?\tno\n",
            "  your humor is dead 😑\n"
          ]
        }
      ]
    },
    {
      "cell_type": "markdown",
      "source": [
        "#### continue"
      ],
      "metadata": {
        "id": "I1JsvENFdJkk"
      }
    },
    {
      "cell_type": "code",
      "source": [
        "accounts = [\n",
        "    {\"id\":101, \"balance\":1000, \"amount_due\": 200},\n",
        "    {\"id\":102, \"balance\":350, \"amount_due\": 400},\n",
        "    {\"id\":103, \"balance\":3000, \"amount_due\": 800}]\n",
        "for account in accounts:\n",
        "  print(f'Processing bill payment for {account.get(\"id\")} with bill amount {account.get(\"amount_due\")}')\n",
        "  if account.get(\"amount_due\") > account.get(\"balance\"):\n",
        "    print(f'Error - Insufficient balance!! Skipping {account.get(id)} ! ', end='\\n\\n')\n",
        "    continue\n",
        "  print(f'Bill payment successful for {account.get(\"id\")}', end='\\n\\n')"
      ],
      "metadata": {
        "colab": {
          "base_uri": "https://localhost:8080/"
        },
        "id": "nKPbRA3Mcwhg",
        "outputId": "460c5aa1-8bb6-47a6-85e4-f5fea719af14"
      },
      "execution_count": null,
      "outputs": [
        {
          "output_type": "stream",
          "name": "stdout",
          "text": [
            "Processing bill payment for 101 with bill amount 200\n",
            "Bill payment successful for 101\n",
            "\n",
            "Processing bill payment for 102 with bill amount 400\n",
            "Error - Insufficient balance!! Skipping None ! \n",
            "\n",
            "Processing bill payment for 103 with bill amount 800\n",
            "Bill payment successful for 103\n",
            "\n"
          ]
        }
      ]
    },
    {
      "cell_type": "markdown",
      "source": [
        "## pass\n",
        "Helps design skeleton by avoiding syntx error\n",
        "\n",
        "Try removing pass from line below"
      ],
      "metadata": {
        "id": "kU_ENCGoghT7"
      }
    },
    {
      "cell_type": "code",
      "source": [
        "num_a = 10;\n",
        "num_b = 20;\n",
        "if num_a > num_b:\n",
        "  pass\n",
        "else:\n",
        "  print(f'{num_a} is less than {num_b}')"
      ],
      "metadata": {
        "colab": {
          "base_uri": "https://localhost:8080/"
        },
        "id": "Ev6on07fffhp",
        "outputId": "17959b40-22f6-4efe-b7b9-e826c9f321be"
      },
      "execution_count": null,
      "outputs": [
        {
          "output_type": "stream",
          "name": "stdout",
          "text": [
            "10 is less than 20\n"
          ]
        }
      ]
    },
    {
      "cell_type": "markdown",
      "source": [
        "# Functions"
      ],
      "metadata": {
        "id": "165lWO8UwzvD"
      }
    },
    {
      "cell_type": "markdown",
      "source": [
        "## Basic function\n",
        "No args, no return"
      ],
      "metadata": {
        "id": "qxwn4qPwyVkl"
      }
    },
    {
      "cell_type": "code",
      "source": [
        "def greet():\n",
        "  print('Hello Paymentus')\n",
        "\n",
        "greet()"
      ],
      "metadata": {
        "colab": {
          "base_uri": "https://localhost:8080/"
        },
        "id": "5yXnz31Yyegx",
        "outputId": "6d51f75d-a672-4096-a061-8c3d63459143"
      },
      "execution_count": null,
      "outputs": [
        {
          "output_type": "stream",
          "name": "stdout",
          "text": [
            "Hello Paymentus\n"
          ]
        }
      ]
    },
    {
      "cell_type": "markdown",
      "source": [
        "# Parameterized functions"
      ],
      "metadata": {
        "id": "XaCBcPgDy0XA"
      }
    },
    {
      "cell_type": "code",
      "source": [
        "def greet(name):\n",
        "  print(f'Hello {name}')\n",
        "\n",
        "greet('Paymentus')"
      ],
      "metadata": {
        "colab": {
          "base_uri": "https://localhost:8080/"
        },
        "id": "Hp6XJmmsy5w0",
        "outputId": "27bb3089-f7fe-421c-f1be-e9f682274184"
      },
      "execution_count": null,
      "outputs": [
        {
          "output_type": "stream",
          "name": "stdout",
          "text": [
            "Hello Paymentus\n"
          ]
        }
      ]
    },
    {
      "cell_type": "markdown",
      "source": [
        "### default parameters"
      ],
      "metadata": {
        "id": "nndIGW4tzG-j"
      }
    },
    {
      "cell_type": "code",
      "source": [
        "def greet(name='Danish'):\n",
        "  print(f'Hello {name}')\n",
        "\n",
        "greet()\n",
        "greet('Paymentus')"
      ],
      "metadata": {
        "colab": {
          "base_uri": "https://localhost:8080/"
        },
        "id": "VeKI7fNJzD3K",
        "outputId": "46ecc77b-8c9c-4983-af96-a9d938e800c3"
      },
      "execution_count": null,
      "outputs": [
        {
          "output_type": "stream",
          "name": "stdout",
          "text": [
            "Hello Danish\n",
            "Hello Paymentus\n"
          ]
        }
      ]
    },
    {
      "cell_type": "markdown",
      "source": [
        "## function overloading\n"
      ],
      "metadata": {
        "id": "ZiUs7FoczYOs"
      }
    },
    {
      "cell_type": "code",
      "source": [
        "def greet(name):\n",
        "  print(f'Hello {name}')\n",
        "\n",
        "def greet(message, name):\n",
        "  print(f'{message} {name}')\n",
        "\n",
        "# the second defination overrides the original one\n",
        "# hence calling it with single parameter will get us error\n",
        "# greet('Paymentus')\n",
        "greet('Hi', 'Paymentus')"
      ],
      "metadata": {
        "colab": {
          "base_uri": "https://localhost:8080/"
        },
        "id": "DTZNAxEzzkrm",
        "outputId": "66a227b2-a60a-4095-fec9-b56dc3156756"
      },
      "execution_count": 1,
      "outputs": [
        {
          "output_type": "stream",
          "name": "stdout",
          "text": [
            "Hi Paymentus\n"
          ]
        }
      ]
    },
    {
      "cell_type": "markdown",
      "source": [
        "## Parameter packing/unpacking\n",
        "\n",
        "This is similar to java's array args and javascripts rest args. They recieve and combine the data to store in an array.\n",
        "\n",
        "> java :\n",
        "``` java\n",
        "public static void main(String ...args) {}\n",
        "```\n",
        "\n",
        "> javascript\n",
        "```javascript\n",
        "function run(...args) {}\n",
        "```\n",
        "\n",
        "Python however offers a different approach.\n",
        "- *args - data recieved and processed in tupels\n",
        "- **kargs - data recieved and processed in dictionary\n",
        "\n",
        "> We'll tupels and dictionary in a while. For now, consider tupels as object and dictionary as map\n",
        "\n"
      ],
      "metadata": {
        "id": "qmjyEGA14o32"
      }
    },
    {
      "cell_type": "code",
      "source": [
        "def greet(*names):\n",
        "  for name in names:\n",
        "    print('Hello', name, end=' ')\n",
        "    print()\n",
        "\n",
        "# works with any number of args\n",
        "greet('Himanshu', 'Fazal', 'Kishan')\n",
        "print()\n",
        "greet('Kunal', 'Ishu')"
      ],
      "metadata": {
        "id": "oBQeJYVmz3bb",
        "colab": {
          "base_uri": "https://localhost:8080/"
        },
        "outputId": "d020f9e3-d830-48d8-f8ff-d141c9565da2"
      },
      "execution_count": 9,
      "outputs": [
        {
          "output_type": "stream",
          "name": "stdout",
          "text": [
            "Hello Himanshu \n",
            "Hello Fazal \n",
            "Hello Kishan \n",
            "\n",
            "Hello Kunal \n",
            "Hello Ishu \n"
          ]
        }
      ]
    },
    {
      "cell_type": "code",
      "source": [
        "def profile_details(**kargs):\n",
        "  for key, value in kargs.items():\n",
        "    print(key, value)\n",
        "\n",
        "\n",
        "profile_details(name='Danish', role=\"developer\")\n",
        "print()\n",
        "profile_details(name='Himanshu', status='commited')"
      ],
      "metadata": {
        "colab": {
          "base_uri": "https://localhost:8080/"
        },
        "id": "JYMMVEXX9U-i",
        "outputId": "1f826276-a908-4efd-acda-3725486fe893"
      },
      "execution_count": 2,
      "outputs": [
        {
          "output_type": "stream",
          "name": "stdout",
          "text": [
            "name Danish\n",
            "role developer\n",
            "\n",
            "name Himanshu\n",
            "status commited\n"
          ]
        }
      ]
    },
    {
      "cell_type": "markdown",
      "source": [
        "### Lambda"
      ],
      "metadata": {
        "id": "NEnC1myyuOgc"
      }
    },
    {
      "cell_type": "code",
      "source": [
        "square = lambda x: x*x\n",
        "print(square(5))\n",
        "\n",
        "sum = lambda x,y: x+y\n",
        "print(sum(10,20))"
      ],
      "metadata": {
        "colab": {
          "base_uri": "https://localhost:8080/"
        },
        "id": "vKmNE-08uNZV",
        "outputId": "150907ab-7255-4519-d1e6-00055be42433"
      },
      "execution_count": 5,
      "outputs": [
        {
          "output_type": "stream",
          "name": "stdout",
          "text": [
            "<function <lambda> at 0x799bc06ec0e0> 25\n",
            "30\n"
          ]
        }
      ]
    },
    {
      "cell_type": "markdown",
      "source": [
        "# Collection Types"
      ],
      "metadata": {
        "id": "QBaAA59JuxQe"
      }
    },
    {
      "cell_type": "markdown",
      "source": [
        "## list\n",
        "Similar to java's ArrayList, both use **dynamic array** under the hood. There are multiple cool methods to ply with.\n",
        "\n",
        "- ordered\n",
        "- allows duplicate\n",
        "- mutable"
      ],
      "metadata": {
        "id": "Wq5NZSJNu38e"
      }
    },
    {
      "cell_type": "code",
      "source": [
        "randomItems = ['Mango', 10, 10.5]\n",
        "randomItems.append('Pineapple')\n",
        "randomItems.append('Mango')\n",
        "print('Mango count: ', randomItems.count('Mango'))\n",
        "print(randomItems)\n",
        "randomItems.pop()\n",
        "print(randomItems)\n",
        "randomItems.remove('Mango')\n",
        "print(randomItems)\n",
        "print('Index of 10.5 : ', randomItems.index(10.5))\n",
        "randomItems.insert(1, 'Banana')\n",
        "print(randomItems)\n",
        "randomItems.reverse()\n",
        "print(randomItems)\n",
        "\n",
        "notSoRandomItems = ['Orange', 'Apple']\n",
        "randomItems.extend(notSoRandomItems)\n",
        "print(randomItems)\n",
        "\n",
        "notSoRandomItems.sort()\n",
        "print(notSoRandomItems)\n",
        "\n",
        "notSoRandomItems.clear()\n",
        "print(notSoRandomItems)\n",
        "\n",
        "notSoRandomItems.insert(5, 10)\n",
        "print(notSoRandomItems)\n",
        "\n",
        "notSoRandomItems.append(5)\n",
        "print(notSoRandomItems)\n",
        "\n",
        "notSoRandomItems.append(3)\n",
        "print(notSoRandomItems)\n",
        "\n",
        "notSoRandomItems.sort(reverse=True)\n",
        "print(notSoRandomItems)\n"
      ],
      "metadata": {
        "colab": {
          "base_uri": "https://localhost:8080/"
        },
        "id": "8E-UDnU0u1t2",
        "outputId": "2301a47f-a82d-4ac7-d415-2c7454efc4b4"
      },
      "execution_count": 27,
      "outputs": [
        {
          "output_type": "stream",
          "name": "stdout",
          "text": [
            "Mango count:  2\n",
            "['Mango', 10, 10.5, 'Pineapple', 'Mango']\n",
            "['Mango', 10, 10.5, 'Pineapple']\n",
            "[10, 10.5, 'Pineapple']\n",
            "Index of 10.5 :  1\n",
            "[10, 'Banana', 10.5, 'Pineapple']\n",
            "['Pineapple', 10.5, 'Banana', 10]\n",
            "['Pineapple', 10.5, 'Banana', 10, 'Orange', 'Apple']\n",
            "['Apple', 'Orange']\n",
            "[]\n",
            "[10]\n",
            "[10, 5]\n",
            "[10, 5, 3]\n",
            "[10, 5, 3]\n"
          ]
        }
      ]
    },
    {
      "cell_type": "markdown",
      "source": [
        "## tuples\n",
        "\n",
        "Similar to tuples but immutable.\n",
        "\n",
        "```python\n",
        "abc = [1,2,3] # list\n",
        "xyz = (1,2,3) # xyz\n",
        "```"
      ],
      "metadata": {
        "id": "eh8HhR3RyhAw"
      }
    },
    {
      "cell_type": "code",
      "source": [
        "abc = [1,2,3] # list\n",
        "xyz = (1,2,3) # xyz\n",
        "\n",
        "print(type(abc), type(xyz))"
      ],
      "metadata": {
        "colab": {
          "base_uri": "https://localhost:8080/"
        },
        "id": "rl656mUhyfLz",
        "outputId": "15434207-e5ed-417b-ea7b-14d40a53ba6c"
      },
      "execution_count": 33,
      "outputs": [
        {
          "output_type": "stream",
          "name": "stdout",
          "text": [
            "<class 'list'> <class 'tuple'>\n"
          ]
        }
      ]
    },
    {
      "cell_type": "code",
      "source": [
        "tup = ('mango', 'grape', 'oranges', 'grape', 'mango', 'mango')\n",
        "# these are the only two functions we have\n",
        "print('Count mangoes : ', tup.count('mango'))\n",
        "print('index of oranges', tup.index('oranges'))\n",
        "\n",
        "# it throws error if element is not in list\n",
        "# tup.index('45')"
      ],
      "metadata": {
        "colab": {
          "base_uri": "https://localhost:8080/"
        },
        "id": "RfCeDdtlz3OO",
        "outputId": "897114b7-c5ab-48b2-ede9-0f13cfc49dcc"
      },
      "execution_count": 40,
      "outputs": [
        {
          "output_type": "stream",
          "name": "stdout",
          "text": [
            "Count mangoes :  3\n",
            "index of oranges 2\n"
          ]
        }
      ]
    },
    {
      "cell_type": "markdown",
      "source": [
        "## list vs tuple\n",
        "\n",
        "|List|Tuple|\n",
        "|---|---|\n",
        "|Read and write is more|Insertation deletion is more|\n",
        "|Like leader board, we'll read and update| Like To-Dos app, we'll insert and delete more|\n"
      ],
      "metadata": {
        "id": "PI6lylBP3vOg"
      }
    },
    {
      "cell_type": "markdown",
      "source": [
        "## set\n",
        "\n",
        "- unordered\n",
        "- mutable\n",
        "- **doesn't allow duplicates**\n",
        "\n",
        "> Internally uses hash table unlike java where hashmap is used.\n",
        "\n",
        "python uses _hash()_ function of the elements to calculate the index in table."
      ],
      "metadata": {
        "id": "QDZ5OJGh5M4m"
      }
    },
    {
      "cell_type": "code",
      "source": [
        "student_ids = {'s-101', 's-102', 's-103', 's-104', 's-101'}\n",
        "print('Notice how order is not maintenained  : ', student_ids)\n",
        "student_ids.add('s-105')\n",
        "\n",
        "print(student_ids)\n"
      ],
      "metadata": {
        "colab": {
          "base_uri": "https://localhost:8080/"
        },
        "id": "k6TwKS3T3TMf",
        "outputId": "a9ebfd14-c029-48d7-c48a-6436751dbd09"
      },
      "execution_count": 42,
      "outputs": [
        {
          "output_type": "stream",
          "name": "stdout",
          "text": [
            "Notice how order is not maintenained  :  {'s-103', 's-101', 's-102', 's-104'}\n",
            "{'s-105', 's-103', 's-104', 's-102', 's-101'}\n"
          ]
        }
      ]
    },
    {
      "cell_type": "code",
      "source": [],
      "metadata": {
        "id": "9Yg7F3gO08ry"
      },
      "execution_count": null,
      "outputs": []
    }
  ]
}