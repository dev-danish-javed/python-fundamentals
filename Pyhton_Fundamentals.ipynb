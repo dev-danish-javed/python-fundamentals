{
  "nbformat": 4,
  "nbformat_minor": 0,
  "metadata": {
    "colab": {
      "provenance": [],
      "toc_visible": true,
      "authorship_tag": "ABX9TyP7mQOf+olVthcOtmN3cyaw",
      "include_colab_link": true
    },
    "kernelspec": {
      "name": "python3",
      "display_name": "Python 3"
    },
    "language_info": {
      "name": "python"
    }
  },
  "cells": [
    {
      "cell_type": "markdown",
      "metadata": {
        "id": "view-in-github",
        "colab_type": "text"
      },
      "source": [
        "<a href=\"https://colab.research.google.com/github/dev-danish-javed/python-fundamentals/blob/main/Pyhton_Fundamentals.ipynb\" target=\"_parent\"><img src=\"https://colab.research.google.com/assets/colab-badge.svg\" alt=\"Open In Colab\"/></a>"
      ]
    },
    {
      "cell_type": "markdown",
      "source": [
        "# Print statements"
      ],
      "metadata": {
        "id": "By33ZyWfDqXz"
      }
    },
    {
      "cell_type": "code",
      "execution_count": null,
      "metadata": {
        "colab": {
          "base_uri": "https://localhost:8080/"
        },
        "id": "Af1zW2cmABVN",
        "outputId": "750b2868-b3a6-4589-d6ed-27d47a840cb2"
      },
      "outputs": [
        {
          "output_type": "stream",
          "name": "stdout",
          "text": [
            "Hello Danish\n"
          ]
        }
      ],
      "source": [
        "print('Hello Danish')"
      ]
    },
    {
      "cell_type": "code",
      "source": [
        "name='Danish'\n",
        "age= int(27)\n",
        "print(f'{name} is {age} years old')"
      ],
      "metadata": {
        "colab": {
          "base_uri": "https://localhost:8080/"
        },
        "id": "7r6H4lw7AXpO",
        "outputId": "7bed0cec-da9b-48da-8207-00ae7633878c"
      },
      "execution_count": null,
      "outputs": [
        {
          "output_type": "stream",
          "name": "stdout",
          "text": [
            "Danish is 27 years old\n"
          ]
        }
      ]
    },
    {
      "cell_type": "code",
      "source": [
        "print(name, age)"
      ],
      "metadata": {
        "colab": {
          "base_uri": "https://localhost:8080/"
        },
        "id": "R4MbUY-ABYof",
        "outputId": "58bbd94c-b30e-4777-98c0-a9d923d0cbaa"
      },
      "execution_count": null,
      "outputs": [
        {
          "output_type": "stream",
          "name": "stdout",
          "text": [
            "Danish 27\n"
          ]
        }
      ]
    },
    {
      "cell_type": "markdown",
      "source": [
        "**This will not work, as python doesn't have a to string method working under the hood**"
      ],
      "metadata": {
        "id": "PHpOAPJ0EWAm"
      }
    },
    {
      "cell_type": "code",
      "source": [
        "print(name + age)"
      ],
      "metadata": {
        "colab": {
          "base_uri": "https://localhost:8080/",
          "height": 141
        },
        "id": "BWgWdDBTBmNx",
        "outputId": "f6dfe369-ac46-4dce-f962-70eb67f78ad0"
      },
      "execution_count": null,
      "outputs": [
        {
          "output_type": "error",
          "ename": "TypeError",
          "evalue": "can only concatenate str (not \"int\") to str",
          "traceback": [
            "\u001b[0;31m---------------------------------------------------------------------------\u001b[0m",
            "\u001b[0;31mTypeError\u001b[0m                                 Traceback (most recent call last)",
            "\u001b[0;32m<ipython-input-6-d5218fbf63b0>\u001b[0m in \u001b[0;36m<cell line: 0>\u001b[0;34m()\u001b[0m\n\u001b[0;32m----> 1\u001b[0;31m \u001b[0mprint\u001b[0m\u001b[0;34m(\u001b[0m\u001b[0mname\u001b[0m \u001b[0;34m+\u001b[0m \u001b[0mage\u001b[0m\u001b[0;34m)\u001b[0m\u001b[0;34m\u001b[0m\u001b[0;34m\u001b[0m\u001b[0m\n\u001b[0m",
            "\u001b[0;31mTypeError\u001b[0m: can only concatenate str (not \"int\") to str"
          ]
        }
      ]
    },
    {
      "cell_type": "markdown",
      "source": [
        "Convert the int to str prior to printing it"
      ],
      "metadata": {
        "id": "HlLiGrEOEmsi"
      }
    },
    {
      "cell_type": "code",
      "source": [
        "print(name + ' ' + str(age))"
      ],
      "metadata": {
        "colab": {
          "base_uri": "https://localhost:8080/"
        },
        "id": "kIZsffgmCTQe",
        "outputId": "670c8325-24c8-454d-e811-9e1f808ffe42"
      },
      "execution_count": null,
      "outputs": [
        {
          "output_type": "stream",
          "name": "stdout",
          "text": [
            "Danish 27\n"
          ]
        }
      ]
    },
    {
      "cell_type": "markdown",
      "source": [
        "# Data Types\n",
        "We have total 4 types of data in python\n",
        "- str : String type\n",
        "- int : whole number\n",
        "- float : decimal numbers\n",
        "- bool : booleans\n",
        "- complex : the same we have in maths"
      ],
      "metadata": {
        "id": "eWBAjTlwD0-s"
      }
    },
    {
      "cell_type": "code",
      "source": [
        "name = 'Danish'\n",
        "age = 27\n",
        "rating = 4.68\n",
        "available = True\n",
        "a = 2 + 3j\n",
        "\n",
        "print(type(name), type(age), type(rating), type(available), type(a))"
      ],
      "metadata": {
        "colab": {
          "base_uri": "https://localhost:8080/"
        },
        "id": "hr6wGuldBhX1",
        "outputId": "2d05812c-e05d-4440-f39f-f367dc32df37"
      },
      "execution_count": null,
      "outputs": [
        {
          "output_type": "stream",
          "name": "stdout",
          "text": [
            "<class 'str'> <class 'int'> <class 'float'> <class 'bool'> <class 'complex'>\n"
          ]
        }
      ]
    },
    {
      "cell_type": "markdown",
      "source": [
        "## Type conversion\n",
        "Each type has a respective conversion method with the same name\n",
        "- str()\n",
        "- int()\n",
        "- float()\n",
        "- bool()\n",
        "\n",
        "These types are smart enough to unerstand what the input parameter is and based on that they can convert them"
      ],
      "metadata": {
        "id": "bfQV2cqJGSYW"
      }
    },
    {
      "cell_type": "code",
      "source": [
        "age = '27'\n",
        "rating = '4.68'\n",
        "available = 'true'\n",
        "# parse these\n",
        "age = int(age)\n",
        "rating = float(rating)\n",
        "available = bool(available)\n",
        "\n",
        "print('age', age, type(age))\n",
        "print('rating', rating, type(rating))\n",
        "print('available', available, type(available))"
      ],
      "metadata": {
        "colab": {
          "base_uri": "https://localhost:8080/"
        },
        "id": "lIC1AadQGQrz",
        "outputId": "45bf88d4-ca2d-44ee-f3d9-f6405d7309dc"
      },
      "execution_count": null,
      "outputs": [
        {
          "output_type": "stream",
          "name": "stdout",
          "text": [
            "age 27 <class 'int'>\n",
            "rating 4.68 <class 'float'>\n",
            "available True <class 'bool'>\n"
          ]
        }
      ]
    },
    {
      "cell_type": "markdown",
      "source": [
        "### bool\n",
        "While every other conversion works as obvious, bool is a bit different\n",
        "\n",
        ">Non-empty = True, Empty/Zero = False"
      ],
      "metadata": {
        "id": "0Va2MQ6WKt_R"
      }
    },
    {
      "source": [
        "print('bool(1)', '\\t\\t', bool(1))\n",
        "print('bool(0)', '\\t\\t', bool(0))\n",
        "print('bool(123)', '\\t\\t', bool(123))\n",
        "\n",
        "print()\n",
        "\n",
        "print('bool(0.0)','\\t\\t', bool(0.0))\n",
        "print('bool(0.1)','\\t\\t', bool(0.1))\n",
        "print('bool(1.0)','\\t\\t', bool(1.0))\n",
        "\n",
        "print()\n",
        "\n",
        "print(\"bool('hello')\",'\\t\\t', bool('hello'))\n",
        "print(\"bool('')\",'\\t\\t', bool(''))\n",
        "\n",
        "print()\n",
        "\n",
        "print(\"bool([])\",'\\t\\t', bool([]))\n",
        "print(\"bool([1,2,3])\",'\\t\\t', bool([1,2,3]))\n",
        "print(\"bool(['hi', 1, 1.2])\",'\\t', bool(['hi', 1, 1.2]))"
      ],
      "cell_type": "code",
      "metadata": {
        "colab": {
          "base_uri": "https://localhost:8080/"
        },
        "id": "Q6abI9lWMM9V",
        "outputId": "63c04f05-b66a-4ae4-a90e-7d59ded12863"
      },
      "execution_count": null,
      "outputs": [
        {
          "output_type": "stream",
          "name": "stdout",
          "text": [
            "bool(1) \t\t True\n",
            "bool(0) \t\t False\n",
            "bool(123) \t\t True\n",
            "\n",
            "bool(0.0) \t\t False\n",
            "bool(0.1) \t\t True\n",
            "bool(1.0) \t\t True\n",
            "\n",
            "bool('hello') \t\t True\n",
            "bool('') \t\t False\n",
            "\n",
            "bool([]) \t\t False\n",
            "bool([1,2,3]) \t\t True\n",
            "bool(['hi', 1, 1.2]) \t True\n"
          ]
        }
      ]
    },
    {
      "cell_type": "markdown",
      "source": [
        "# Basic IO\n",
        " - For output we have print\n",
        " - For input we have input"
      ],
      "metadata": {
        "id": "SXZ5lpH6X6-7"
      }
    },
    {
      "cell_type": "code",
      "source": [
        "name = input(\"What's your name ? \")\n",
        "print(f'Hello {name} !!')"
      ],
      "metadata": {
        "colab": {
          "base_uri": "https://localhost:8080/"
        },
        "id": "WV0F4XdgYbRD",
        "outputId": "3b7faffa-4793-4921-e6a4-d56e5b737426"
      },
      "execution_count": null,
      "outputs": [
        {
          "output_type": "stream",
          "name": "stdout",
          "text": [
            "What's your name ? Danish\n",
            "Hello Danish !!\n"
          ]
        }
      ]
    },
    {
      "cell_type": "markdown",
      "source": [
        "# Control flow in Python\n",
        "- Conditional Statements\n",
        "  - if\n",
        "  - elif\n",
        "  - else\n",
        "- Loops\n",
        "  - for\n",
        "  - while\n",
        "  - Loop control\n",
        "    - break\n",
        "    - continue\n",
        "    - pass\n",
        "- match-case\n",
        "- try-catch-finally"
      ],
      "metadata": {
        "id": "a956YdKaoTCs"
      }
    },
    {
      "cell_type": "markdown",
      "source": [
        "## Conditional statements"
      ],
      "metadata": {
        "id": "OmxZyU1IqKqs"
      }
    },
    {
      "cell_type": "markdown",
      "source": [
        "Even odd check"
      ],
      "metadata": {
        "id": "TVX8AW51JHgQ"
      }
    },
    {
      "cell_type": "code",
      "source": [
        "import random;\n",
        "num = random.randint(1,10)\n",
        "print(\"Random num : \", num)\n",
        "if num%2 == 0:\n",
        "  print(\"num is even\")\n",
        "else:\n",
        "  print(\"num is odd\")"
      ],
      "metadata": {
        "id": "h2bqK6s8Y74F",
        "colab": {
          "base_uri": "https://localhost:8080/"
        },
        "outputId": "521ac432-b5a3-4de8-8c46-c2c79de42c10"
      },
      "execution_count": 4,
      "outputs": [
        {
          "output_type": "stream",
          "name": "stdout",
          "text": [
            "Random num :  8\n",
            "num is even\n"
          ]
        }
      ]
    },
    {
      "cell_type": "markdown",
      "source": [
        "> Ternary operator but python style"
      ],
      "metadata": {
        "id": "tUrS3cVqKD5f"
      }
    },
    {
      "cell_type": "code",
      "source": [
        "import random;\n",
        "num = random.randint(1,10)\n",
        "print(\"Random num : \", num)\n",
        "print(\"num is even\") if num%2 == 0 else print(\"num is odd\")"
      ],
      "metadata": {
        "colab": {
          "base_uri": "https://localhost:8080/"
        },
        "id": "V8UncCkZKmtt",
        "outputId": "9f6a03c2-c799-4d5e-ef32-bb9ce61fe3ca"
      },
      "execution_count": 17,
      "outputs": [
        {
          "output_type": "stream",
          "name": "stdout",
          "text": [
            "Random num :  8\n",
            "num is even\n"
          ]
        }
      ]
    },
    {
      "cell_type": "markdown",
      "source": [
        "Fuzz Buzz Problem"
      ],
      "metadata": {
        "id": "GdV2k_0pJNGz"
      }
    },
    {
      "cell_type": "code",
      "source": [
        "import random;\n",
        "num = random.randint(1,100)\n",
        "print(\"Random num : \", num)\n",
        "if num%3 == 0 and num%5 == 0:\n",
        "  print(\"Fuzz Buzz\")\n",
        "elif num%3 == 0:\n",
        "  print(\"Fuzz\")\n",
        "elif num%5 == 0:\n",
        "  print(\"Buzz\")\n",
        "else:\n",
        "  print(\"none\")"
      ],
      "metadata": {
        "colab": {
          "base_uri": "https://localhost:8080/"
        },
        "id": "XyY_H-_wI0xg",
        "outputId": "eb7329f2-351c-4eff-8d55-1223dd6a5cb7"
      },
      "execution_count": 16,
      "outputs": [
        {
          "output_type": "stream",
          "name": "stdout",
          "text": [
            "Random num :  45\n",
            "Fuzz Buzz\n"
          ]
        }
      ]
    },
    {
      "cell_type": "code",
      "source": [],
      "metadata": {
        "id": "XovJjEWWKIWh"
      },
      "execution_count": null,
      "outputs": []
    },
    {
      "cell_type": "markdown",
      "source": [
        "## Loop Control\n",
        "- break\n",
        "- continue\n",
        "- pass"
      ],
      "metadata": {
        "id": "_pQO6pBaJ22W"
      }
    },
    {
      "cell_type": "code",
      "source": [],
      "metadata": {
        "id": "OZZxlw91JeAm"
      },
      "execution_count": 7,
      "outputs": []
    },
    {
      "cell_type": "code",
      "source": [],
      "metadata": {
        "id": "OyC5Z0mtJ-0J"
      },
      "execution_count": null,
      "outputs": []
    }
  ]
}